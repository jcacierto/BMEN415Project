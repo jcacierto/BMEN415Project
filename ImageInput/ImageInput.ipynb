{
  "nbformat": 4,
  "nbformat_minor": 0,
  "metadata": {
    "colab": {
      "name": "ImageInput.ipynb",
      "provenance": []
    },
    "kernelspec": {
      "name": "python3",
      "display_name": "Python 3"
    },
    "language_info": {
      "name": "python"
    }
  },
  "cells": [
    {
      "cell_type": "markdown",
      "source": [
        "Source code for Image Input (Attempt 2)"
      ],
      "metadata": {
        "id": "AKJC94PPMNjR"
      }
    },
    {
      "cell_type": "code",
      "source": [
        "import os \n",
        "from keras.utils import np_utils\n",
        "import seaborn as sns \n",
        "from tensorflow.keras.initializers import RandomNormal\n",
        "from PIL import Image as Image1\n",
        "from IPython.display import display\n",
        "from IPython.display import Image\n",
        "from matplotlib import pyplot as plt\n",
        "\n",
        "import matplotlib.pyplot as plt\n",
        "import numpy as np\n",
        "import time\n",
        "from zipfile import ZipFile\n",
        "\n",
        "import cv2 as cv\n",
        "from google.colab.patches import cv2_imshow\n",
        "\n",
        "import tensorflow.keras\n",
        "from tensorflow.keras import layers\n",
        "from tensorflow.keras import Model \n",
        "from tensorflow.keras.models import Sequential\n",
        "from tensorflow.keras.preprocessing import image\n",
        "from tensorflow.keras.callbacks import ModelCheckpoint, EarlyStopping\n",
        "from tensorflow.keras.preprocessing.image import ImageDataGenerator\n",
        "from tensorflow.keras.applications.vgg16 import VGG16, preprocess_input\n",
        "from tensorflow.keras.models import load_model, Model\n",
        "from tensorflow.keras.layers import Dense,Conv2D, Flatten, MaxPool2D, Dropout\n",
        "from tensorflow.keras.optimizers import Adam"
      ],
      "metadata": {
        "id": "6O_POAyOMgNe"
      },
      "execution_count": 11,
      "outputs": []
    },
    {
      "cell_type": "code",
      "source": [
        "#import folder to session:\n",
        "fp = '/content/CTScan_Cancer.zip'\n",
        "\n",
        "with ZipFile(fp, 'r') as zip:\n",
        "  zip.extractall()\n",
        "\n",
        "print('done')"
      ],
      "metadata": {
        "colab": {
          "base_uri": "https://localhost:8080/"
        },
        "id": "7GeJUgzFPOZv",
        "outputId": "ffbd1572-87d4-4d65-a76b-aea88e7808e6"
      },
      "execution_count": 12,
      "outputs": [
        {
          "output_type": "stream",
          "name": "stdout",
          "text": [
            "done\n"
          ]
        }
      ]
    },
    {
      "cell_type": "code",
      "source": [
        "#Paths to folder:\n",
        "test_path = '/content/Data/test'\n",
        "train_path = '/content/Data/train'\n",
        "val_path = '/content/Data/valid'\n",
        "\n"
      ],
      "metadata": {
        "id": "wYVaHWJNPuCg"
      },
      "execution_count": 13,
      "outputs": []
    },
    {
      "cell_type": "code",
      "source": [
        "train_datagen = ImageDataGenerator(rescale = 1.0/255.0,\n",
        "                                  horizontal_flip = True,\n",
        "                                  fill_mode = 'nearest',\n",
        "                                  zoom_range=0.2,\n",
        "                                  shear_range = 0.2,\n",
        "                                  width_shift_range=0.2,\n",
        "                                  height_shift_range=0.2,\n",
        "                                  rotation_range=0.4)"
      ],
      "metadata": {
        "id": "qwx9EPYRQ50E"
      },
      "execution_count": 14,
      "outputs": []
    },
    {
      "cell_type": "code",
      "source": [
        "train_data = train_datagen.flow_from_directory(train_path,\n",
        "                                                   batch_size = 5,\n",
        "                                                   target_size = (350,350),\n",
        "                                                   class_mode = 'categorical')"
      ],
      "metadata": {
        "colab": {
          "base_uri": "https://localhost:8080/"
        },
        "id": "NoVn3w3_Q67J",
        "outputId": "29519fd3-a926-45e7-9fe1-86cd51d86876"
      },
      "execution_count": 15,
      "outputs": [
        {
          "output_type": "stream",
          "name": "stdout",
          "text": [
            "Found 613 images belonging to 4 classes.\n"
          ]
        }
      ]
    },
    {
      "cell_type": "code",
      "source": [
        "train_data.class_indices"
      ],
      "metadata": {
        "colab": {
          "base_uri": "https://localhost:8080/"
        },
        "id": "smABVwYwRG9b",
        "outputId": "87b978f3-654b-4458-8330-f07524ce3dbe"
      },
      "execution_count": 16,
      "outputs": [
        {
          "output_type": "execute_result",
          "data": {
            "text/plain": [
              "{'adenocarcinoma_left.lower.lobe_T2_N0_M0_Ib': 0,\n",
              " 'large.cell.carcinoma_left.hilum_T2_N2_M0_IIIa': 1,\n",
              " 'normal': 2,\n",
              " 'squamous.cell.carcinoma_left.hilum_T1_N2_M0_IIIa': 3}"
            ]
          },
          "metadata": {},
          "execution_count": 16
        }
      ]
    },
    {
      "cell_type": "code",
      "source": [
        "val_datagen = ImageDataGenerator(rescale = 1.0/255.0)\n",
        "val_data = val_datagen.flow_from_directory(val_path,\n",
        "                                                   batch_size = 5,\n",
        "                                                   target_size = (350,350),\n",
        "                                                   class_mode = 'categorical')"
      ],
      "metadata": {
        "colab": {
          "base_uri": "https://localhost:8080/"
        },
        "id": "bLC1ka4BRMgP",
        "outputId": "0258e867-4366-4d17-9128-0d41de5b6d7a"
      },
      "execution_count": 17,
      "outputs": [
        {
          "output_type": "stream",
          "name": "stdout",
          "text": [
            "Found 72 images belonging to 4 classes.\n"
          ]
        }
      ]
    },
    {
      "cell_type": "code",
      "source": [
        "test_datagen = ImageDataGenerator(rescale = 1.0/255.0)\n",
        "test_data = test_datagen.flow_from_directory(test_path,\n",
        "                                                   batch_size = 5,\n",
        "                                                   target_size = (350,350),\n",
        "                                                   class_mode = 'categorical')"
      ],
      "metadata": {
        "colab": {
          "base_uri": "https://localhost:8080/"
        },
        "id": "Aqw72GoxRQRq",
        "outputId": "06d3b6eb-00e6-4bd1-f3ce-666dc1ceef88"
      },
      "execution_count": 18,
      "outputs": [
        {
          "output_type": "stream",
          "name": "stdout",
          "text": [
            "Found 315 images belonging to 4 classes.\n"
          ]
        }
      ]
    },
    {
      "cell_type": "code",
      "source": [
        "model = Sequential() \n",
        "\n",
        "# Convolutional Layer with input shape (350,350,3)\n",
        "model.add(Conv2D(filters=32, kernel_size= (3,3), activation= 'relu', input_shape=(350,350,3)) )\n",
        "\n",
        "model.add(Conv2D(filters=32, kernel_size=(3,3), activation='relu' ))\n",
        "model.add(MaxPool2D(pool_size=(2,2)))\n",
        "\n",
        "model.add(Conv2D(filters=64, kernel_size=(3,3), activation='relu' ))\n",
        "model.add(MaxPool2D(pool_size=(2,2)))\n",
        "\n",
        "model.add(Conv2D(filters=128, kernel_size=(3,3), activation='relu' ))\n",
        "model.add(MaxPool2D(pool_size=(2,2)))\n",
        "\n",
        "model.add(Dropout(rate=0.25))\n",
        "\n",
        "model.add(Flatten())\n",
        "model.add(Dense(units=32, activation='relu'))\n",
        "model.add(Dense(units=32, activation='relu'))\n",
        "model.add(Dropout(rate=0.25))\n",
        "model.add(Dense(units=4, activation='sigmoid'))\n",
        "\n",
        "model.compile(optimizer='adam', loss='categorical_crossentropy', metrics=['accuracy']  )\n",
        " \n",
        "model.summary()"
      ],
      "metadata": {
        "colab": {
          "base_uri": "https://localhost:8080/"
        },
        "id": "5cwbzsQFRYqb",
        "outputId": "258137ea-0964-4de2-b7a2-21237999a91f"
      },
      "execution_count": 19,
      "outputs": [
        {
          "output_type": "stream",
          "name": "stdout",
          "text": [
            "Model: \"sequential_1\"\n",
            "_________________________________________________________________\n",
            " Layer (type)                Output Shape              Param #   \n",
            "=================================================================\n",
            " conv2d_4 (Conv2D)           (None, 348, 348, 32)      896       \n",
            "                                                                 \n",
            " conv2d_5 (Conv2D)           (None, 346, 346, 32)      9248      \n",
            "                                                                 \n",
            " max_pooling2d_3 (MaxPooling  (None, 173, 173, 32)     0         \n",
            " 2D)                                                             \n",
            "                                                                 \n",
            " conv2d_6 (Conv2D)           (None, 171, 171, 64)      18496     \n",
            "                                                                 \n",
            " max_pooling2d_4 (MaxPooling  (None, 85, 85, 64)       0         \n",
            " 2D)                                                             \n",
            "                                                                 \n",
            " conv2d_7 (Conv2D)           (None, 83, 83, 128)       73856     \n",
            "                                                                 \n",
            " max_pooling2d_5 (MaxPooling  (None, 41, 41, 128)      0         \n",
            " 2D)                                                             \n",
            "                                                                 \n",
            " dropout_2 (Dropout)         (None, 41, 41, 128)       0         \n",
            "                                                                 \n",
            " flatten_1 (Flatten)         (None, 215168)            0         \n",
            "                                                                 \n",
            " dense_3 (Dense)             (None, 32)                6885408   \n",
            "                                                                 \n",
            " dense_4 (Dense)             (None, 32)                1056      \n",
            "                                                                 \n",
            " dropout_3 (Dropout)         (None, 32)                0         \n",
            "                                                                 \n",
            " dense_5 (Dense)             (None, 4)                 132       \n",
            "                                                                 \n",
            "=================================================================\n",
            "Total params: 6,989,092\n",
            "Trainable params: 6,989,092\n",
            "Non-trainable params: 0\n",
            "_________________________________________________________________\n"
          ]
        }
      ]
    },
    {
      "cell_type": "code",
      "source": [
        "#history = model.fit(train_data,y_train,epochs = 500 , validation_data = (val_data, y_val))\n",
        "mc = ModelCheckpoint(\n",
        "    filepath=\"./ct_cnn_best_model.hdf5\",\n",
        "    monitor= 'val_accuracy', \n",
        "    verbose= 1,\n",
        "    save_best_only= True, \n",
        "    mode = 'auto'\n",
        "    );\n",
        "\n",
        "call_back = [mc]\n",
        "\n",
        "cnn = model.fit(\n",
        "    train_data,\n",
        "    steps_per_epoch = train_data.samples//train_data.batch_size, \n",
        "    epochs = 5,\n",
        "    validation_data = val_data, \n",
        "    validation_steps = val_data.samples//val_data.batch_size,\n",
        "    callbacks = call_back\n",
        "    )"
      ],
      "metadata": {
        "colab": {
          "base_uri": "https://localhost:8080/"
        },
        "id": "ZqVPD0S3UepE",
        "outputId": "cd359078-005b-4199-e7fe-77038e50b20c"
      },
      "execution_count": 20,
      "outputs": [
        {
          "output_type": "stream",
          "name": "stdout",
          "text": [
            "Epoch 1/5\n",
            "122/122 [==============================] - ETA: 0s - loss: 1.2369 - accuracy: 0.3964\n",
            "Epoch 1: val_accuracy improved from -inf to 0.48571, saving model to ./ct_cnn_best_model.hdf5\n",
            "122/122 [==============================] - 206s 2s/step - loss: 1.2369 - accuracy: 0.3964 - val_loss: 1.0962 - val_accuracy: 0.4857\n",
            "Epoch 2/5\n",
            "122/122 [==============================] - ETA: 0s - loss: 1.0476 - accuracy: 0.4836\n",
            "Epoch 2: val_accuracy improved from 0.48571 to 0.51429, saving model to ./ct_cnn_best_model.hdf5\n",
            "122/122 [==============================] - 203s 2s/step - loss: 1.0476 - accuracy: 0.4836 - val_loss: 0.9772 - val_accuracy: 0.5143\n",
            "Epoch 3/5\n",
            "122/122 [==============================] - ETA: 0s - loss: 1.1113 - accuracy: 0.5049\n",
            "Epoch 3: val_accuracy did not improve from 0.51429\n",
            "122/122 [==============================] - 202s 2s/step - loss: 1.1113 - accuracy: 0.5049 - val_loss: 0.9699 - val_accuracy: 0.4857\n",
            "Epoch 4/5\n",
            "122/122 [==============================] - ETA: 0s - loss: 1.0097 - accuracy: 0.5181\n",
            "Epoch 4: val_accuracy did not improve from 0.51429\n",
            "122/122 [==============================] - 204s 2s/step - loss: 1.0097 - accuracy: 0.5181 - val_loss: 0.9462 - val_accuracy: 0.4857\n",
            "Epoch 5/5\n",
            "122/122 [==============================] - ETA: 0s - loss: 1.0509 - accuracy: 0.4885\n",
            "Epoch 5: val_accuracy did not improve from 0.51429\n",
            "122/122 [==============================] - 203s 2s/step - loss: 1.0509 - accuracy: 0.4885 - val_loss: 0.9607 - val_accuracy: 0.5000\n"
          ]
        }
      ]
    },
    {
      "cell_type": "code",
      "source": [
        "model = load_model(\"./ct_cnn_best_model.hdf5\")"
      ],
      "metadata": {
        "id": "9Lrrds7ZELio"
      },
      "execution_count": 21,
      "outputs": []
    },
    {
      "cell_type": "code",
      "source": [
        "accuracy_cnn = model.evaluate_generator(generator= test_data)[1] \n",
        "print(f\"CNN Model Accuracy: {accuracy_cnn*100} %\")"
      ],
      "metadata": {
        "colab": {
          "base_uri": "https://localhost:8080/"
        },
        "id": "EJuUo9EkEP2Z",
        "outputId": "d4fe8116-2f53-493c-c3d7-930467b5ba96"
      },
      "execution_count": 22,
      "outputs": [
        {
          "output_type": "stream",
          "name": "stderr",
          "text": [
            "/usr/local/lib/python3.7/dist-packages/ipykernel_launcher.py:1: UserWarning: `Model.evaluate_generator` is deprecated and will be removed in a future version. Please use `Model.evaluate`, which supports generators.\n",
            "  \"\"\"Entry point for launching an IPython kernel.\n"
          ]
        },
        {
          "output_type": "stream",
          "name": "stdout",
          "text": [
            "CNN Model Accuracy: 43.17460358142853 %\n"
          ]
        }
      ]
    }
  ]
}