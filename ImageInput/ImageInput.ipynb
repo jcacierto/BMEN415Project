{
  "nbformat": 4,
  "nbformat_minor": 0,
  "metadata": {
    "colab": {
      "name": "ImageInput.ipynb",
      "provenance": []
    },
    "kernelspec": {
      "name": "python3",
      "display_name": "Python 3"
    },
    "language_info": {
      "name": "python"
    }
  },
  "cells": [
    {
      "cell_type": "markdown",
      "source": [
        "Source code for Image Input (Attempt 2)"
      ],
      "metadata": {
        "id": "AKJC94PPMNjR"
      }
    },
    {
      "cell_type": "code",
      "source": [
        "import os \n",
        "from keras.utils import np_utils\n",
        "import seaborn as sns \n",
        "from tensorflow.keras.initializers import RandomNormal\n",
        "from PIL import Image as Image1\n",
        "from IPython.display import display\n",
        "from IPython.display import Image\n",
        "from matplotlib import pyplot as plt\n",
        "\n",
        "import matplotlib.pyplot as plt\n",
        "import numpy as np\n",
        "import time\n",
        "from zipfile import ZipFile\n",
        "\n",
        "import cv2 as cv\n",
        "from google.colab.patches import cv2_imshow\n",
        "\n",
        "import tensorflow.keras\n",
        "from tensorflow.keras import layers\n",
        "from tensorflow.keras import Model \n",
        "from tensorflow.keras.models import Sequential\n",
        "from tensorflow.keras.preprocessing import image\n",
        "from tensorflow.keras.callbacks import ModelCheckpoint, EarlyStopping\n",
        "from tensorflow.keras.preprocessing.image import ImageDataGenerator\n",
        "from tensorflow.keras.applications.vgg16 import VGG16, preprocess_input\n",
        "from tensorflow.keras.models import load_model, Model\n",
        "from tensorflow.keras.layers import Dense,Conv2D, Flatten, MaxPool2D, Dropout\n",
        "from tensorflow.keras.optimizers import Adam"
      ],
      "metadata": {
        "id": "6O_POAyOMgNe"
      },
      "execution_count": null,
      "outputs": []
    },
    {
      "cell_type": "code",
      "source": [
        "#import folder to session:\n",
        "fp = '/content/CTScan_Cancer.zip'\n",
        "\n",
        "with ZipFile(fp, 'r') as zip:\n",
        "  zip.extractall()\n",
        "\n",
        "print('done')"
      ],
      "metadata": {
        "colab": {
          "base_uri": "https://localhost:8080/"
        },
        "id": "7GeJUgzFPOZv",
        "outputId": "ca5ec54b-c7b4-4c6e-ddb8-a4cd667d8337"
      },
      "execution_count": null,
      "outputs": [
        {
          "output_type": "stream",
          "name": "stdout",
          "text": [
            "done\n"
          ]
        }
      ]
    },
    {
      "cell_type": "code",
      "source": [
        "#Paths to folder:\n",
        "test_path = '/content/Data/test'\n",
        "train_path = '/content/Data/train'\n",
        "val_path = '/content/Data/valid'\n",
        "\n"
      ],
      "metadata": {
        "id": "wYVaHWJNPuCg"
      },
      "execution_count": null,
      "outputs": []
    },
    {
      "cell_type": "code",
      "source": [
        "train_datagen = ImageDataGenerator(rescale = 1.0/255.0,\n",
        "                                  horizontal_flip = True,\n",
        "                                  fill_mode = 'nearest',\n",
        "                                  zoom_range=0.2,\n",
        "                                  shear_range = 0.2,\n",
        "                                  width_shift_range=0.2,\n",
        "                                  height_shift_range=0.2,\n",
        "                                  rotation_range=0.4)"
      ],
      "metadata": {
        "id": "qwx9EPYRQ50E"
      },
      "execution_count": null,
      "outputs": []
    },
    {
      "cell_type": "code",
      "source": [
        "train_data = train_datagen.flow_from_directory(train_path,\n",
        "                                                   batch_size = 5,\n",
        "                                                   target_size = (350,350),\n",
        "                                                   class_mode = 'categorical')"
      ],
      "metadata": {
        "colab": {
          "base_uri": "https://localhost:8080/"
        },
        "id": "NoVn3w3_Q67J",
        "outputId": "47dc1374-b1cc-4341-8f1b-cd0d2cedb380"
      },
      "execution_count": null,
      "outputs": [
        {
          "output_type": "stream",
          "name": "stdout",
          "text": [
            "Found 613 images belonging to 4 classes.\n"
          ]
        }
      ]
    },
    {
      "cell_type": "code",
      "source": [
        "train_data.class_indices"
      ],
      "metadata": {
        "colab": {
          "base_uri": "https://localhost:8080/"
        },
        "id": "smABVwYwRG9b",
        "outputId": "2703e6b9-f6c6-4e41-a47e-668717a86de9"
      },
      "execution_count": null,
      "outputs": [
        {
          "output_type": "execute_result",
          "data": {
            "text/plain": [
              "{'adenocarcinoma_left.lower.lobe_T2_N0_M0_Ib': 0,\n",
              " 'large.cell.carcinoma_left.hilum_T2_N2_M0_IIIa': 1,\n",
              " 'normal': 2,\n",
              " 'squamous.cell.carcinoma_left.hilum_T1_N2_M0_IIIa': 3}"
            ]
          },
          "metadata": {},
          "execution_count": 49
        }
      ]
    },
    {
      "cell_type": "code",
      "source": [
        "val_datagen = ImageDataGenerator(rescale = 1.0/255.0)\n",
        "val_data = val_datagen.flow_from_directory(val_path,\n",
        "                                                   batch_size = 5,\n",
        "                                                   target_size = (350,350),\n",
        "                                                   class_mode = 'categorical')"
      ],
      "metadata": {
        "colab": {
          "base_uri": "https://localhost:8080/"
        },
        "id": "bLC1ka4BRMgP",
        "outputId": "98a02199-d04a-4df1-f875-29e13ae7dfe8"
      },
      "execution_count": null,
      "outputs": [
        {
          "output_type": "stream",
          "name": "stdout",
          "text": [
            "Found 72 images belonging to 4 classes.\n"
          ]
        }
      ]
    },
    {
      "cell_type": "code",
      "source": [
        "test_datagen = ImageDataGenerator(rescale = 1.0/255.0)\n",
        "test_data = test_datagen.flow_from_directory(test_path,\n",
        "                                                   batch_size = 5,\n",
        "                                                   target_size = (350,350),\n",
        "                                                   class_mode = 'categorical')"
      ],
      "metadata": {
        "colab": {
          "base_uri": "https://localhost:8080/"
        },
        "id": "Aqw72GoxRQRq",
        "outputId": "8b49b04b-d9a0-487c-d98b-a769680a3fc3"
      },
      "execution_count": null,
      "outputs": [
        {
          "output_type": "stream",
          "name": "stdout",
          "text": [
            "Found 315 images belonging to 4 classes.\n"
          ]
        }
      ]
    },
    {
      "cell_type": "code",
      "source": [
        "model = Sequential() \n",
        "\n",
        "# Convolutional Layer with input shape (350,350,3)\n",
        "model.add(Conv2D(filters=32, kernel_size= (3,3), activation= 'relu', input_shape=(350,350,3)) )\n",
        "\n",
        "model.add(Conv2D(filters=32, kernel_size=(3,3), activation='relu' ))\n",
        "model.add(MaxPool2D(pool_size=(2,2)))\n",
        "\n",
        "model.add(Conv2D(filters=64, kernel_size=(3,3), activation='relu' ))\n",
        "model.add(MaxPool2D(pool_size=(2,2)))\n",
        "\n",
        "model.add(Conv2D(filters=128, kernel_size=(3,3), activation='relu' ))\n",
        "model.add(MaxPool2D(pool_size=(2,2)))\n",
        "\n",
        "model.add(Dropout(rate=0.25))\n",
        "\n",
        "model.add(Flatten())\n",
        "model.add(Dense(units=16, activation='relu'))\n",
        "model.add(Dense(units=16, activation='relu'))\n",
        "model.add(Dense(units=16, activation='relu'))\n",
        "model.add(Dense(units=16, activation='relu'))\n",
        "model.add(Dropout(rate=0.25))\n",
        "model.add(Dense(units=4, activation='sigmoid'))\n",
        "\n",
        "model.compile(optimizer='adam', loss='categorical_crossentropy', metrics=['accuracy']  )\n",
        " \n",
        "model.summary()"
      ],
      "metadata": {
        "colab": {
          "base_uri": "https://localhost:8080/"
        },
        "id": "5cwbzsQFRYqb",
        "outputId": "2fb49c2a-eb2d-4be8-f079-86329666441b"
      },
      "execution_count": null,
      "outputs": [
        {
          "output_type": "stream",
          "name": "stdout",
          "text": [
            "Model: \"sequential_2\"\n",
            "_________________________________________________________________\n",
            " Layer (type)                Output Shape              Param #   \n",
            "=================================================================\n",
            " conv2d_8 (Conv2D)           (None, 348, 348, 32)      896       \n",
            "                                                                 \n",
            " conv2d_9 (Conv2D)           (None, 346, 346, 32)      9248      \n",
            "                                                                 \n",
            " max_pooling2d_6 (MaxPooling  (None, 173, 173, 32)     0         \n",
            " 2D)                                                             \n",
            "                                                                 \n",
            " conv2d_10 (Conv2D)          (None, 171, 171, 64)      18496     \n",
            "                                                                 \n",
            " max_pooling2d_7 (MaxPooling  (None, 85, 85, 64)       0         \n",
            " 2D)                                                             \n",
            "                                                                 \n",
            " conv2d_11 (Conv2D)          (None, 83, 83, 128)       73856     \n",
            "                                                                 \n",
            " max_pooling2d_8 (MaxPooling  (None, 41, 41, 128)      0         \n",
            " 2D)                                                             \n",
            "                                                                 \n",
            " dropout_4 (Dropout)         (None, 41, 41, 128)       0         \n",
            "                                                                 \n",
            " flatten_2 (Flatten)         (None, 215168)            0         \n",
            "                                                                 \n",
            " dense_8 (Dense)             (None, 16)                3442704   \n",
            "                                                                 \n",
            " dense_9 (Dense)             (None, 16)                272       \n",
            "                                                                 \n",
            " dense_10 (Dense)            (None, 16)                272       \n",
            "                                                                 \n",
            " dense_11 (Dense)            (None, 16)                272       \n",
            "                                                                 \n",
            " dropout_5 (Dropout)         (None, 16)                0         \n",
            "                                                                 \n",
            " dense_12 (Dense)            (None, 4)                 68        \n",
            "                                                                 \n",
            "=================================================================\n",
            "Total params: 3,546,084\n",
            "Trainable params: 3,546,084\n",
            "Non-trainable params: 0\n",
            "_________________________________________________________________\n"
          ]
        }
      ]
    },
    {
      "cell_type": "code",
      "source": [
        "#history = model.fit(train_data,y_train,epochs = 500 , validation_data = (val_data, y_val))\n",
        "mc = ModelCheckpoint(\n",
        "    filepath=\"./ct_cnn_best_model.hdf5\",\n",
        "    monitor= 'val_accuracy', \n",
        "    verbose= 1,\n",
        "    save_best_only= True, \n",
        "    mode = 'auto'\n",
        "    );\n",
        "\n",
        "call_back = [mc]\n",
        "\n",
        "cnn = model.fit(\n",
        "    train_data,\n",
        "    steps_per_epoch = train_data.samples//train_data.batch_size, \n",
        "    epochs = 10,\n",
        "    validation_data = val_data, \n",
        "    validation_steps = val_data.samples//val_data.batch_size,\n",
        "    callbacks = call_back\n",
        "    )"
      ],
      "metadata": {
        "colab": {
          "base_uri": "https://localhost:8080/"
        },
        "id": "ZqVPD0S3UepE",
        "outputId": "e349939f-99e7-4300-e83c-66b8f43c17d6"
      },
      "execution_count": null,
      "outputs": [
        {
          "output_type": "stream",
          "name": "stdout",
          "text": [
            "Epoch 1/10\n",
            "122/122 [==============================] - ETA: 0s - loss: 1.3855 - accuracy: 0.2763\n",
            "Epoch 1: val_accuracy improved from -inf to 0.31429, saving model to ./ct_cnn_best_model.hdf5\n",
            "122/122 [==============================] - 275s 2s/step - loss: 1.3855 - accuracy: 0.2763 - val_loss: 1.3874 - val_accuracy: 0.3143\n",
            "Epoch 2/10\n",
            "122/122 [==============================] - ETA: 0s - loss: 1.3707 - accuracy: 0.3141\n",
            "Epoch 2: val_accuracy improved from 0.31429 to 0.32857, saving model to ./ct_cnn_best_model.hdf5\n",
            "122/122 [==============================] - 274s 2s/step - loss: 1.3707 - accuracy: 0.3141 - val_loss: 1.3397 - val_accuracy: 0.3286\n",
            "Epoch 3/10\n",
            "122/122 [==============================] - ETA: 0s - loss: 1.2918 - accuracy: 0.4260\n",
            "Epoch 3: val_accuracy improved from 0.32857 to 0.50000, saving model to ./ct_cnn_best_model.hdf5\n",
            "122/122 [==============================] - 275s 2s/step - loss: 1.2918 - accuracy: 0.4260 - val_loss: 1.1494 - val_accuracy: 0.5000\n",
            "Epoch 4/10\n",
            "122/122 [==============================] - ETA: 0s - loss: 1.2531 - accuracy: 0.4326\n",
            "Epoch 4: val_accuracy did not improve from 0.50000\n",
            "122/122 [==============================] - 275s 2s/step - loss: 1.2531 - accuracy: 0.4326 - val_loss: 1.1431 - val_accuracy: 0.4714\n",
            "Epoch 5/10\n",
            "122/122 [==============================] - ETA: 0s - loss: 1.1647 - accuracy: 0.4720\n",
            "Epoch 5: val_accuracy did not improve from 0.50000\n",
            "122/122 [==============================] - 276s 2s/step - loss: 1.1647 - accuracy: 0.4720 - val_loss: 1.0551 - val_accuracy: 0.4857\n",
            "Epoch 6/10\n",
            "122/122 [==============================] - ETA: 0s - loss: 1.1566 - accuracy: 0.4720\n",
            "Epoch 6: val_accuracy did not improve from 0.50000\n",
            "122/122 [==============================] - 275s 2s/step - loss: 1.1566 - accuracy: 0.4720 - val_loss: 1.0803 - val_accuracy: 0.4714\n",
            "Epoch 7/10\n",
            "122/122 [==============================] - ETA: 0s - loss: 1.1420 - accuracy: 0.4688\n",
            "Epoch 7: val_accuracy did not improve from 0.50000\n",
            "122/122 [==============================] - 275s 2s/step - loss: 1.1420 - accuracy: 0.4688 - val_loss: 1.0676 - val_accuracy: 0.4714\n",
            "Epoch 8/10\n",
            "122/122 [==============================] - ETA: 0s - loss: 1.0935 - accuracy: 0.4836\n",
            "Epoch 8: val_accuracy did not improve from 0.50000\n",
            "122/122 [==============================] - 271s 2s/step - loss: 1.0935 - accuracy: 0.4836 - val_loss: 0.9795 - val_accuracy: 0.5000\n",
            "Epoch 9/10\n",
            "122/122 [==============================] - ETA: 0s - loss: 1.0420 - accuracy: 0.5000\n",
            "Epoch 9: val_accuracy did not improve from 0.50000\n",
            "122/122 [==============================] - 275s 2s/step - loss: 1.0420 - accuracy: 0.5000 - val_loss: 0.9993 - val_accuracy: 0.5000\n",
            "Epoch 10/10\n",
            "122/122 [==============================] - ETA: 0s - loss: 1.0402 - accuracy: 0.4984\n",
            "Epoch 10: val_accuracy did not improve from 0.50000\n",
            "122/122 [==============================] - 274s 2s/step - loss: 1.0402 - accuracy: 0.4984 - val_loss: 0.9761 - val_accuracy: 0.3857\n"
          ]
        }
      ]
    },
    {
      "cell_type": "code",
      "source": [
        "model = load_model(\"./ct_cnn_best_model.hdf5\")"
      ],
      "metadata": {
        "id": "9Lrrds7ZELio"
      },
      "execution_count": null,
      "outputs": []
    },
    {
      "cell_type": "code",
      "source": [
        "accuracy_cnn = model.evaluate_generator(generator= test_data)[1] \n",
        "print(f\"CNN Model Accuracy: {accuracy_cnn*100} %\")"
      ],
      "metadata": {
        "colab": {
          "base_uri": "https://localhost:8080/"
        },
        "id": "EJuUo9EkEP2Z",
        "outputId": "615a31cb-8ce0-41ec-8a7c-ed621cf24e8c"
      },
      "execution_count": null,
      "outputs": [
        {
          "output_type": "stream",
          "name": "stderr",
          "text": [
            "/usr/local/lib/python3.7/dist-packages/ipykernel_launcher.py:1: UserWarning: `Model.evaluate_generator` is deprecated and will be removed in a future version. Please use `Model.evaluate`, which supports generators.\n",
            "  \"\"\"Entry point for launching an IPython kernel.\n"
          ]
        },
        {
          "output_type": "stream",
          "name": "stdout",
          "text": [
            "CNN Model Accuracy: 51.11111402511597 %\n"
          ]
        }
      ]
    },
    {
      "cell_type": "code",
      "source": [
        "# Plot model performance\n",
        "acc = cnn.history['accuracy']\n",
        "val_acc = cnn.history['val_accuracy']\n",
        "loss = cnn.history['loss']\n",
        "val_loss = cnn.history['val_loss']\n",
        "epochs_range = range(1, len(cnn.epoch) + 1)\n",
        "\n",
        "plt.figure(figsize=(15,5))\n",
        "\n",
        "plt.subplot(1, 2, 1)\n",
        "plt.plot(epochs_range, acc, label='Train Set')\n",
        "plt.plot(epochs_range, val_acc, label='Val Set')\n",
        "plt.legend(loc=\"best\")\n",
        "plt.xlabel('Epochs')\n",
        "plt.ylabel('Accuracy')\n",
        "plt.title('Model Accuracy')\n",
        "\n",
        "plt.subplot(1, 2, 2)\n",
        "plt.plot(epochs_range, loss, label='Train Set')\n",
        "plt.plot(epochs_range, val_loss, label='Val Set')\n",
        "plt.legend(loc=\"best\")\n",
        "plt.xlabel('Epochs')\n",
        "plt.ylabel('Loss')\n",
        "plt.title('Model Loss')\n",
        "\n",
        "plt.tight_layout()\n",
        "plt.show()"
      ],
      "metadata": {
        "id": "0nAqlLjiUdOy",
        "outputId": "ac784274-7313-4de3-94e9-169835b898df",
        "colab": {
          "base_uri": "https://localhost:8080/",
          "height": 370
        }
      },
      "execution_count": null,
      "outputs": [
        {
          "output_type": "display_data",
          "data": {
            "text/plain": [
              "<Figure size 1080x360 with 2 Axes>"
            ],
            "image/png": "[encoded data removed]"
          },
          "metadata": {
            "needs_background": "light"
          }
        }
      ]
    }
  ]
}